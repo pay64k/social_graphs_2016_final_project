{
 "cells": [
  {
   "cell_type": "code",
   "execution_count": 1,
   "metadata": {
    "collapsed": true
   },
   "outputs": [],
   "source": [
    "import numpy as np\n",
    "import operator\n",
    "import matplotlib.pyplot as plt\n",
    "import networkx as nx"
   ]
  },
  {
   "cell_type": "code",
   "execution_count": 2,
   "metadata": {
    "collapsed": false
   },
   "outputs": [],
   "source": [
    "import csv\n",
    "\n",
    "movies = {}\n",
    "\n",
    "\n",
    "with open('imdb_dataset_v5.tsv - imdb_dataset_v5.tsv.tsv') as csvfile:\n",
    "    reader = csv.DictReader(csvfile, delimiter = \"\\t\")\n",
    "    for entry in reader:\n",
    "        movies[\n",
    "            entry[\"title\"]\n",
    "        ] = {\n",
    "        \"director\":     entry[\"director\"],\n",
    "        \"rating\":       entry[\"rating\"],\n",
    "        \"votes\":        entry[\"votes\"],\n",
    "        \"year\":         entry[\"year\"],\n",
    "        \"genre\":        entry[\"genre\"],\n",
    "        \"gross\":        entry[\"gross\"],\n",
    "        \"budget\":       entry[\"budget\"],\n",
    "        \"run-time\":     entry[\"run-time\"] ,\n",
    "        \"actor1\":       entry[\"actor1\"],\n",
    "        \"actor1_rank\":  entry[\"actor1_rank\"],\n",
    "        \"actor2\":       entry[\"actor2\"],\n",
    "        \"actor2_rank\":  entry[\"actor2_rank\"],\n",
    "        \"actor3\":       entry[\"actor3\"],\n",
    "        \"actor3_rank\":  entry[\"actor3_rank\"],\n",
    "        \"plot\":         entry[\"plot\"]\n",
    "        }\n",
    "\n",
    "\n"
   ]
  },
  {
   "cell_type": "code",
   "execution_count": 3,
   "metadata": {
    "collapsed": false
   },
   "outputs": [
    {
     "name": "stdout",
     "output_type": "stream",
     "text": [
      "Fired Up! (2009)  director:  Will Gluck\n",
      "Resurrection (1999)  director:  Russell Mulcahy\n",
      "Mozart and the Whale (2005)  director:  Petter Næss\n",
      "The Peacemaker (1997)  director:  Mimi Leder\n",
      "Holy Rollers (2010)  director:  Kevin Asch\n",
      "X-Men: Days of Future Past (2014)  director:  Bryan Singer\n",
      "Poltergeist III (1988)  director:  Gary (I) Sherman\n",
      "Law Abiding Citizen (2009)  director:  F. Gary Gray\n",
      "Frozen (2013/I)  director:  Chris (II) Buck\n",
      "FernGully: The Last Rainforest (1992)  director:  Bill Kroyer\n",
      "Drop Dead Gorgeous (1999)  director:  Michael Patrick Jann\n",
      "The Big Short (2015)  director:  Adam (I) McKay\n",
      "The Covenant (2006)  director:  Renny Harlin\n",
      "Sex and the City 2 (2010)  director:  Michael Patrick King\n",
      "Robot & Frank (2012)  director:  Jake Schreier\n",
      "Jem and the Holograms (2015)  director:  Jon M. Chu\n",
      "Encino Man (1992)  director:  Les Mayfield\n",
      "The Adventures of Baron Munchausen (1988)  director:  Terry Gilliam\n",
      "Resident Evil: Apocalypse (2004)  director:  Alexander Witt\n",
      "A Perfect World (1993)  director:  Clint Eastwood\n",
      "Margin Call (2011)  director:  J.C. Chandor\n",
      "Panic Room (2002)  director:  David Fincher\n",
      "X-Men: The Last Stand (2006)  director:  Brett Ratner\n",
      "London Has Fallen (2016)  director:  Babak Najafi\n",
      "Lockout (2012)  director:  James (II) Mather\n",
      "Café Society (2016)  director:  Woody Allen\n",
      "The Blood of Heroes (1989)  director:  David Webb Peoples\n",
      "The Naked Gun: From the Files of Police Squad! (1988)  director:  David (I) Zucker\n",
      "Lucy (2014/I)  director:  Luc Besson\n",
      "Village of the Damned (1995)  director:  John (I) Carpenter\n"
     ]
    }
   ],
   "source": [
    "for movie in movies.keys()[0:30]:\n",
    "    print movie,\" director: \", movies[movie][\"director\"]"
   ]
  },
  {
   "cell_type": "code",
   "execution_count": 4,
   "metadata": {
    "collapsed": false
   },
   "outputs": [
    {
     "name": "stdout",
     "output_type": "stream",
     "text": [
      "4858\n"
     ]
    }
   ],
   "source": [
    "print len(movies)"
   ]
  },
  {
   "cell_type": "code",
   "execution_count": 5,
   "metadata": {
    "collapsed": false
   },
   "outputs": [
    {
     "name": "stdout",
     "output_type": "stream",
     "text": [
      "Number of nodes: 3025\n",
      "Number of links: 14013\n"
     ]
    }
   ],
   "source": [
    "actors_network = nx.Graph()\n",
    "\n",
    "for movie in movies:\n",
    "    actors_network.add_node(movies[movie][\"actor1\"]) \n",
    "    actors_network.add_node(movies[movie][\"actor2\"]) \n",
    "    actors_network.add_node(movies[movie][\"actor3\"])\n",
    "    \n",
    "for movie in movies:\n",
    "    actors_network.add_edge(movies[movie][\"actor1\"], movies[movie][\"actor2\"])\n",
    "    actors_network.add_edge(movies[movie][\"actor2\"], movies[movie][\"actor3\"])\n",
    "    actors_network.add_edge(movies[movie][\"actor3\"], movies[movie][\"actor1\"])\n",
    "    \n",
    "    \n",
    "num_of_nodes = actors_network.number_of_nodes()\n",
    "print('Number of nodes: ' + str(num_of_nodes))\n",
    "\n",
    "num_of_links = actors_network.number_of_edges()\n",
    "print('Number of links: ' + str(num_of_links))"
   ]
  },
  {
   "cell_type": "code",
   "execution_count": 6,
   "metadata": {
    "collapsed": true
   },
   "outputs": [],
   "source": [
    "plt.hist(nx.degree(actors_network).values())\n",
    "plt.xlabel('Degree')\n",
    "plt.ylabel('Number of Actors')\n",
    "plt.savefig('network_degree.png')\n"
   ]
  },
  {
   "cell_type": "code",
   "execution_count": null,
   "metadata": {
    "collapsed": true
   },
   "outputs": [],
   "source": []
  }
 ],
 "metadata": {
  "anaconda-cloud": {},
  "kernelspec": {
   "display_name": "Python [Root]",
   "language": "python",
   "name": "Python [Root]"
  },
  "language_info": {
   "codemirror_mode": {
    "name": "ipython",
    "version": 2
   },
   "file_extension": ".py",
   "mimetype": "text/x-python",
   "name": "python",
   "nbconvert_exporter": "python",
   "pygments_lexer": "ipython2",
   "version": "2.7.12"
  }
 },
 "nbformat": 4,
 "nbformat_minor": 0
}
