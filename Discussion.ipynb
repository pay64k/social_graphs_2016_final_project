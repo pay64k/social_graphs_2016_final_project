{
 "cells": [
  {
   "cell_type": "markdown",
   "metadata": {},
   "source": [
    "# Discussion\n",
    "\n",
    "To start with it is good to underline that creation of large dataset with very detailed information was a big success. Merging a lot of different sources like IMDb, Wikipedia, IMSDb using APIs or scraping the information went very well. It was a great success to clean messy data sets of different parameters into one file which could be further analyzed and used in study.\n",
    " \n",
    "Another thing which went well was analysis of the network. The fact that we asked a lot of specific questions connected with profit and the movie business, on which we could find the answers during the analysis of the dataset. Process of analysing actors and directors  separately to cope with conclusions about movies was performed well. \n",
    "\n",
    "Network part and the key findings like which actors are playing in the most movies together, the most central actors and directors gave a lot of information about the network on its own. After the analysis we found that the most famous actors and directors are the most central people in the whole network. The outliers in our networks, where unknown actors and directors.\n",
    "\n",
    "The process of sentiment analysis of the movie scripts gave us interesting information about which actors are more starring in positive or negative movies. Furthermore, the sentiment of a movie is correlated with the genre of the movie. Our findings seems to follow the assumptions that comedy films tend to have higher sentiment score (be more positive) than action and drama films. \n",
    "\n",
    "It should be noted that we only had 641 movie scripts to work with, which is drastically fewer movies than in the total dataset (4376 titles). Therefore, the text analysis could be improved if more movie scripts are acquired. Nevertheless, we got some interesting data from it and our findings supported our theory that movies tend to have more positive or negative words based on its genre.\n",
    "\n",
    "Future work would be to use English subtitles for the movies instead of the movie scripts. Almost every English language movie has subtitles and there are large databases for subtitles on the internet. The difference is that movie scripts also include descriptions of scenes, while subtitles only have the dialogue. It could be interesting analysis and would probably help with the word clouds for different genre to have more words to play with."
   ]
  }
 ],
 "metadata": {
  "anaconda-cloud": {},
  "kernelspec": {
   "display_name": "Python [Root]",
   "language": "python",
   "name": "Python [Root]"
  },
  "language_info": {
   "codemirror_mode": {
    "name": "ipython",
    "version": 2
   },
   "file_extension": ".py",
   "mimetype": "text/x-python",
   "name": "python",
   "nbconvert_exporter": "python",
   "pygments_lexer": "ipython2",
   "version": "2.7.12"
  }
 },
 "nbformat": 4,
 "nbformat_minor": 0
}
