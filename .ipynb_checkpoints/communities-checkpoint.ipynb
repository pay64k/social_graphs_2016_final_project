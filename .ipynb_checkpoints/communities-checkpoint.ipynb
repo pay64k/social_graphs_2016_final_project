{
 "cells": [
  {
   "cell_type": "code",
   "execution_count": 86,
   "metadata": {
    "collapsed": true
   },
   "outputs": [],
   "source": [
    "# Read-in imdb data\n",
    "import csv\n",
    "\n",
    "movies = {}\n",
    "\n",
    "with open('imdb_dataset_v7.2_6_actors_complete.tsv') as csvfile:\n",
    "    reader = csv.DictReader(csvfile, delimiter = \"\\t\")\n",
    "    for entry in reader:\n",
    "        movies[\n",
    "            entry[\"title\"]\n",
    "        ] = {\n",
    "        \"director\":     entry[\"director\"],\n",
    "        \"rating\":       entry[\"rating\"],\n",
    "        \"votes\":        entry[\"votes\"],\n",
    "        \"year\":         entry[\"year\"],\n",
    "        \"genre\":        entry[\"genre\"],\n",
    "        \"gross\":        entry[\"gross\"],\n",
    "        \"budget\":       entry[\"budget\"],\n",
    "        \"run-time\":     entry[\"run-time\"] ,\n",
    "        \"actor1\":       entry[\"actor1\"],\n",
    "        \"actor1_rank\":  entry[\"actor1_rank\"],\n",
    "        \"actor1_sex\":   entry[\"actor1_sex\"],\n",
    "        \"actor2\":       entry[\"actor2\"],\n",
    "        \"actor2_rank\":  entry[\"actor2_rank\"],\n",
    "        \"actor2_sex\":   entry[\"actor2_sex\"],\n",
    "        \"actor3\":       entry[\"actor3\"],\n",
    "        \"actor3_rank\":  entry[\"actor3_rank\"],\n",
    "        \"actor3_sex\":   entry[\"actor3_sex\"],\n",
    "        \"actor4\":       entry[\"actor4\"],\n",
    "        \"actor4_rank\":  entry[\"actor4_rank\"],\n",
    "        \"actor4_sex\":   entry[\"actor4_sex\"],\n",
    "        \"actor5\":       entry[\"actor5\"],\n",
    "        \"actor5_rank\":  entry[\"actor5_rank\"],\n",
    "        \"actor5_sex\":   entry[\"actor5_sex\"],\n",
    "        \"actor6\":       entry[\"actor6\"],\n",
    "        \"actor6_rank\":  entry[\"actor6_rank\"],\n",
    "        \"actor6_sex\":   entry[\"actor6_sex\"],\n",
    "        \"plot\":         entry[\"plot\"]\n",
    "        }"
   ]
  },
  {
   "cell_type": "code",
   "execution_count": 87,
   "metadata": {
    "collapsed": false
   },
   "outputs": [],
   "source": [
    "from collections import defaultdict\n",
    "\n",
    "actors_list = [\"actor1\", \"actor2\", \"actor3\", \"actor4\", \"actor5\", \"actor6\"]\n",
    "\n",
    "# Add every genre which actor has been in\n",
    "actors_genres = defaultdict(list)\n",
    "for movie in movies:\n",
    "    for actor in actors_list:\n",
    "        actors_genres[movies[movie][actor]].append(movies[movie][\"genre\"])"
   ]
  },
  {
   "cell_type": "code",
   "execution_count": 88,
   "metadata": {
    "collapsed": false
   },
   "outputs": [],
   "source": [
    "from collections import Counter\n",
    "\n",
    "# Add actors to the genre they appear most in\n",
    "actors_top_genres = {}\n",
    "for actor in actors_genres:\n",
    "    count = Counter(actors_genres[actor])\n",
    "    actors_top_genres[actor] = count.most_common(1)[0][0]"
   ]
  },
  {
   "cell_type": "code",
   "execution_count": 89,
   "metadata": {
    "collapsed": false
   },
   "outputs": [
    {
     "name": "stdout",
     "output_type": "stream",
     "text": [
      "Mystery: 23\n",
      "Romance: 2\n",
      "Sci-Fi: 3\n",
      "Family: 3\n",
      "Horror: 193\n",
      "Thriller: 4\n",
      "Crime: 151\n",
      "Drama: 970\n",
      "Fantasy: 9\n",
      "Animation: 20\n",
      "Music: 1\n",
      "Adventure: 183\n",
      "Action: 1345\n",
      "Comedy: 1628\n",
      "Documentary: 24\n",
      "War: 2\n",
      "Biography: 102\n"
     ]
    }
   ],
   "source": [
    "# Print the genres and how many actors they have\n",
    "genres_num_of_actors = Counter(actors_top_genres.values())\n",
    "for i in genres_num_of_actors:\n",
    "    print(str(i) + \": \" + str(genres_num_of_actors[i]))"
   ]
  },
  {
   "cell_type": "code",
   "execution_count": 90,
   "metadata": {
    "collapsed": false
   },
   "outputs": [],
   "source": [
    "# Group actors to their specific genre\n",
    "genres_actors = defaultdict(list)\n",
    "for actor in actors_top_genres:\n",
    "    genres_actors[actors_top_genres[actor]].append(actor)"
   ]
  },
  {
   "cell_type": "code",
   "execution_count": null,
   "metadata": {
    "collapsed": true
   },
   "outputs": [],
   "source": []
  }
 ],
 "metadata": {
  "anaconda-cloud": {},
  "kernelspec": {
   "display_name": "Python [Root]",
   "language": "python",
   "name": "Python [Root]"
  },
  "language_info": {
   "codemirror_mode": {
    "name": "ipython",
    "version": 2
   },
   "file_extension": ".py",
   "mimetype": "text/x-python",
   "name": "python",
   "nbconvert_exporter": "python",
   "pygments_lexer": "ipython2",
   "version": "2.7.12"
  }
 },
 "nbformat": 4,
 "nbformat_minor": 0
}
