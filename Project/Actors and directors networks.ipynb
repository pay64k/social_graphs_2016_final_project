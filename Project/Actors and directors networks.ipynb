{
 "cells": [
  {
   "cell_type": "code",
   "execution_count": 2,
   "metadata": {
    "collapsed": true
   },
   "outputs": [],
   "source": [
    "import numpy as np\n",
    "import operator\n",
    "import matplotlib.pyplot as plt\n",
    "import networkx as nx\n",
    "%matplotlib inline"
   ]
  },
  {
   "cell_type": "code",
   "execution_count": 3,
   "metadata": {
    "collapsed": false
   },
   "outputs": [],
   "source": [
    "import csv\n",
    "\n",
    "movies = {}\n",
    "\n",
    "\n",
    "with open('imdb_dataset_v7 - dataset.tsv.tsv') as csvfile:\n",
    "    reader = csv.DictReader(csvfile, delimiter = \"\\t\")\n",
    "    for entry in reader:\n",
    "        movies[\n",
    "            entry[\"title\"]\n",
    "        ] = {\n",
    "        \"director\":     entry[\"director\"],\n",
    "        \"rating\":       entry[\"rating\"],\n",
    "        \"votes\":        entry[\"votes\"],\n",
    "        \"year\":         entry[\"year\"],\n",
    "        \"genre\":        entry[\"genre\"],\n",
    "        \"gross\":        entry[\"gross\"],\n",
    "        \"budget\":       entry[\"budget\"],\n",
    "        \"run-time\":     entry[\"run-time\"] ,\n",
    "        \"actor1\":       entry[\"actor1\"],\n",
    "        \"actor1_rank\":  entry[\"actor1_rank\"],\n",
    "        \"actor1_sex\":   entry[\"actor1_sex\"],\n",
    "        \"actor2\":       entry[\"actor2\"],\n",
    "        \"actor2_rank\":  entry[\"actor2_rank\"],\n",
    "        \"actor2_sex\":   entry[\"actor2_sex\"],\n",
    "        \"actor3\":       entry[\"actor3\"],\n",
    "        \"actor3_rank\":  entry[\"actor3_rank\"],\n",
    "        \"actor3_sex\":   entry[\"actor3_sex\"],\n",
    "        \"actor4\":       entry[\"actor4\"],\n",
    "        \"actor4_rank\":  entry[\"actor4_rank\"],\n",
    "        \"actor4_sex\":   entry[\"actor4_sex\"],\n",
    "        \"actor5\":       entry[\"actor5\"],\n",
    "        \"actor5_rank\":  entry[\"actor5_rank\"],\n",
    "        \"actor5_sex\":   entry[\"actor5_sex\"],\n",
    "        \"actor6\":       entry[\"actor6\"],\n",
    "        \"actor6_rank\":  entry[\"actor6_rank\"],\n",
    "        \"actor6_sex\":   entry[\"actor6_sex\"],\n",
    "        \"plot\":         entry[\"plot\"]\n",
    "        }\n",
    "\n",
    "\n"
   ]
  },
  {
   "cell_type": "code",
   "execution_count": 4,
   "metadata": {
    "collapsed": false
   },
   "outputs": [
    {
     "name": "stdout",
     "output_type": "stream",
     "text": [
      "Fired Up! (2009)  director:  Will Gluck\n",
      "Four Christmases (2008)  director:  Seth (I) Gordon\n",
      "Drop Dead Gorgeous (1999)  director:  Michael Patrick Jann\n",
      "Mozart and the Whale (2005)  director:  Petter Næss\n",
      "The Peacemaker (1997)  director:  Mimi Leder\n",
      "Holy Rollers (2010)  director:  Kevin Asch\n",
      "X-Men: Days of Future Past (2014)  director:  Bryan Singer\n",
      "Article 99 (1992)  director:  Howard Deutch\n",
      "Frozen (2013/I)  director:  Chris (II) Buck\n",
      "FernGully: The Last Rainforest (1992)  director:  Bill Kroyer\n",
      "The Big Short (2015)  director:  Adam (I) McKay\n",
      "The Covenant (2006)  director:  Renny Harlin\n",
      "Sex and the City 2 (2010)  director:  Michael Patrick King\n",
      "Like Minds (2006)  director:  Gregory Read\n",
      "Penguins of Madagascar (2014)  director:  Eric (I) Darnell\n",
      "The Adventures of Baron Munchausen (1988)  director:  Terry Gilliam\n",
      "An Unfinished Life (2005)  director:  Lasse Hallström\n",
      "True Identity (1991)  director:  Charles (II) Lane\n",
      "A Perfect World (1993)  director:  Clint Eastwood\n",
      "Margin Call (2011)  director:  J.C. Chandor\n",
      "Panic Room (2002)  director:  David Fincher\n",
      "X-Men: The Last Stand (2006)  director:  Brett Ratner\n",
      "London Has Fallen (2016)  director:  Babak Najafi\n",
      "Tin Men (1987)  director:  Barry (I) Levinson\n",
      "Someday This Pain Will Be Useful to You (2011)  director:  Roberto Faenza\n",
      "The Naked Gun: From the Files of Police Squad! (1988)  director:  David (I) Zucker\n",
      "Lucy (2014/I)  director:  Luc Besson\n",
      "Village of the Damned (1995)  director:  John (I) Carpenter\n",
      "Piranha 3DD (2012)  director:  John Gulager\n",
      "Syrup (2013/I)  director:  Aram Rappaport\n"
     ]
    }
   ],
   "source": [
    "for movie in movies.keys()[0:30]:\n",
    "    print movie,\" director: \", movies[movie][\"director\"]"
   ]
  },
  {
   "cell_type": "code",
   "execution_count": 4,
   "metadata": {
    "collapsed": false
   },
   "outputs": [
    {
     "name": "stdout",
     "output_type": "stream",
     "text": [
      "4377\n"
     ]
    }
   ],
   "source": [
    "print len(movies)"
   ]
  },
  {
   "cell_type": "code",
   "execution_count": 36,
   "metadata": {
    "collapsed": false
   },
   "outputs": [
    {
     "name": "stdout",
     "output_type": "stream",
     "text": [
      "Number of nodes: 4664\n",
      "Number of links: 62206\n",
      "\n",
      "Most frequent pairs of actors\n",
      "Adam Sandler and Rob Schneider {'weight': 13}\n",
      "Kevin James and Adam Sandler {'weight': 8}\n",
      "Daniel Radcliffe and Tom Felton {'weight': 8}\n",
      "Adam Sandler and Steve Buscemi {'weight': 8}\n",
      "Jim Cummings and Frank Welker {'weight': 8}\n",
      "John Cusack and Joan Cusack {'weight': 7}\n",
      "Quentin Tarantino and Samuel L. Jackson {'weight': 6}\n",
      "Johnny Depp and Helena Bonham Carter {'weight': 6}\n",
      "George Clooney and Matt Damon {'weight': 6}\n",
      "Matt Damon and Ben Affleck {'weight': 6}\n"
     ]
    }
   ],
   "source": [
    "actors_network = nx.Graph()\n",
    "\n",
    "for movie in movies:\n",
    "    actors_network.add_node(movies[movie][\"actor1\"]) \n",
    "    actors_network.add_node(movies[movie][\"actor2\"]) \n",
    "    actors_network.add_node(movies[movie][\"actor3\"])\n",
    "    actors_network.add_node(movies[movie][\"actor4\"])\n",
    "    actors_network.add_node(movies[movie][\"actor5\"])\n",
    "    actors_network.add_node(movies[movie][\"actor6\"])\n",
    "\n",
    "for movie in movies:\n",
    "    actors_network.add_edge(movies[movie][\"actor1\"], movies[movie][\"actor2\"], weight =0)\n",
    "    actors_network.add_edge(movies[movie][\"actor1\"], movies[movie][\"actor3\"], weight =0)\n",
    "    actors_network.add_edge(movies[movie][\"actor1\"], movies[movie][\"actor4\"], weight =0)\n",
    "    actors_network.add_edge(movies[movie][\"actor1\"], movies[movie][\"actor5\"], weight =0)\n",
    "    actors_network.add_edge(movies[movie][\"actor1\"], movies[movie][\"actor6\"], weight =0)\n",
    "    \n",
    "    actors_network.add_edge(movies[movie][\"actor2\"], movies[movie][\"actor3\"], weight =0)\n",
    "    actors_network.add_edge(movies[movie][\"actor2\"], movies[movie][\"actor4\"], weight =0)\n",
    "    actors_network.add_edge(movies[movie][\"actor2\"], movies[movie][\"actor5\"], weight =0)\n",
    "    actors_network.add_edge(movies[movie][\"actor2\"], movies[movie][\"actor6\"], weight =0)\n",
    "    \n",
    "    actors_network.add_edge(movies[movie][\"actor3\"], movies[movie][\"actor4\"], weight =0)\n",
    "    actors_network.add_edge(movies[movie][\"actor3\"], movies[movie][\"actor5\"], weight =0)\n",
    "    actors_network.add_edge(movies[movie][\"actor3\"], movies[movie][\"actor6\"], weight =0)\n",
    "    \n",
    "    actors_network.add_edge(movies[movie][\"actor4\"], movies[movie][\"actor5\"], weight =0)\n",
    "    actors_network.add_edge(movies[movie][\"actor4\"], movies[movie][\"actor6\"], weight =0)\n",
    "    \n",
    "    actors_network.add_edge(movies[movie][\"actor5\"], movies[movie][\"actor6\"], weight =0)\n",
    "    \n",
    "for movie in movies: \n",
    "    if actors_network.has_edge(movies[movie][\"actor1\"], movies[movie][\"actor2\"]):\n",
    "                # we added this one before, just increase the weight by one\n",
    "                actors_network[movies[movie][\"actor1\"]][movies[movie][\"actor2\"]]['weight'] += 1               \n",
    "    if actors_network.has_edge(movies[movie][\"actor1\"], movies[movie][\"actor3\"]):\n",
    "                # we added this one before, just increase the weight by one\n",
    "                actors_network[movies[movie][\"actor1\"]][movies[movie][\"actor3\"]]['weight'] += 1\n",
    "    if actors_network.has_edge(movies[movie][\"actor1\"], movies[movie][\"actor4\"]):\n",
    "                # we added this one before, just increase the weight by one\n",
    "                actors_network[movies[movie][\"actor1\"]][movies[movie][\"actor4\"]]['weight'] += 1\n",
    "    if actors_network.has_edge(movies[movie][\"actor1\"], movies[movie][\"actor5\"]):\n",
    "                # we added this one before, just increase the weight by one\n",
    "                actors_network[movies[movie][\"actor1\"]][movies[movie][\"actor5\"]]['weight'] += 1\n",
    "    if actors_network.has_edge(movies[movie][\"actor1\"], movies[movie][\"actor6\"]):\n",
    "                # we added this one before, just increase the weight by one\n",
    "                actors_network[movies[movie][\"actor1\"]][movies[movie][\"actor6\"]]['weight'] += 1\n",
    "                \n",
    "                \n",
    "    if actors_network.has_edge(movies[movie][\"actor2\"], movies[movie][\"actor3\"]):\n",
    "                # we added this one before, just increase the weight by one\n",
    "                actors_network[movies[movie][\"actor2\"]][movies[movie][\"actor3\"]]['weight'] += 1                \n",
    "    if actors_network.has_edge(movies[movie][\"actor2\"], movies[movie][\"actor4\"]):\n",
    "                # we added this one before, just increase the weight by one\n",
    "                actors_network[movies[movie][\"actor2\"]][movies[movie][\"actor4\"]]['weight'] += 1\n",
    "    if actors_network.has_edge(movies[movie][\"actor2\"], movies[movie][\"actor5\"]):\n",
    "                # we added this one before, just increase the weight by one\n",
    "                actors_network[movies[movie][\"actor2\"]][movies[movie][\"actor5\"]]['weight'] += 1\n",
    "    if actors_network.has_edge(movies[movie][\"actor2\"], movies[movie][\"actor6\"]):\n",
    "                # we added this one before, just increase the weight by one\n",
    "                actors_network[movies[movie][\"actor2\"]][movies[movie][\"actor6\"]]['weight'] += 1\n",
    "                \n",
    "                \n",
    "    if actors_network.has_edge(movies[movie][\"actor3\"], movies[movie][\"actor4\"]):\n",
    "                # we added this one before, just increase the weight by one\n",
    "                actors_network[movies[movie][\"actor3\"]][movies[movie][\"actor4\"]]['weight'] += 1  \n",
    "    if actors_network.has_edge(movies[movie][\"actor3\"], movies[movie][\"actor5\"]):\n",
    "                # we added this one before, just increase the weight by one\n",
    "                actors_network[movies[movie][\"actor3\"]][movies[movie][\"actor5\"]]['weight'] += 1 \n",
    "    if actors_network.has_edge(movies[movie][\"actor3\"], movies[movie][\"actor6\"]):\n",
    "                # we added this one before, just increase the weight by one\n",
    "                actors_network[movies[movie][\"actor3\"]][movies[movie][\"actor6\"]]['weight'] += 1 \n",
    "                \n",
    "                \n",
    "    if actors_network.has_edge(movies[movie][\"actor4\"], movies[movie][\"actor5\"]):\n",
    "                # we added this one before, just increase the weight by one\n",
    "                actors_network[movies[movie][\"actor4\"]][movies[movie][\"actor5\"]]['weight'] += 1 \n",
    "    if actors_network.has_edge(movies[movie][\"actor4\"], movies[movie][\"actor6\"]):\n",
    "                # we added this one before, just increase the weight by one\n",
    "                actors_network[movies[movie][\"actor4\"]][movies[movie][\"actor6\"]]['weight'] += 1\n",
    "                \n",
    "    if actors_network.has_edge(movies[movie][\"actor5\"], movies[movie][\"actor6\"]):\n",
    "                # we added this one before, just increase the weight by one\n",
    "                actors_network[movies[movie][\"actor5\"]][movies[movie][\"actor6\"]]['weight'] += 1 \n",
    "                \n",
    "num_of_nodes = actors_network.number_of_nodes()\n",
    "print('Number of nodes: ' + str(num_of_nodes))\n",
    "\n",
    "num_of_links = actors_network.number_of_edges()\n",
    "print('Number of links: ' + str(num_of_links))\n",
    "\n",
    "num_of_links_sorted = sorted(actors_network.edges(data=True), key=lambda (source,target,data): data['weight'], reverse=True)\n",
    "\n",
    "#print \"all edges\"\n",
    "#print sorted(actors_network.edges(data=True), key=lambda (source,target,data): data['weight'], reverse=True)\n",
    "\n",
    "print ('\\nMost frequent pairs of actors')\n",
    "for ii in num_of_links_sorted[0:10]:\n",
    "    print(ii[0] + ' and ' + str(ii[1]) +' '+ str(ii[2]))"
   ]
  },
  {
   "cell_type": "markdown",
   "metadata": {},
   "source": [
    "EXPLANATION"
   ]
  },
  {
   "cell_type": "code",
   "execution_count": 16,
   "metadata": {
    "collapsed": false
   },
   "outputs": [
    {
     "data": {
      "image/png": "[encoded data removed]",
      "text/plain": [
       "<matplotlib.figure.Figure at 0xcd0c1d0>"
      ]
     },
     "metadata": {},
     "output_type": "display_data"
    }
   ],
   "source": [
    "plt.hist(nx.degree(actors_network).values())\n",
    "plt.title(\"Actors Degree Distribution\")\n",
    "plt.xlabel('Degree')\n",
    "plt.ylabel('Number of Actors')\n",
    "plt.show()\n",
    "#plt.savefig('network_degree.png')\n"
   ]
  },
  {
   "cell_type": "code",
   "execution_count": 18,
   "metadata": {
    "collapsed": false
   },
   "outputs": [
    {
     "name": "stdout",
     "output_type": "stream",
     "text": [
      "Samuel L. Jackson with value of 0.0190773686927\n",
      "Bruce Willis with value of 0.0146141731371\n",
      "Frank Welker with value of 0.0139652687456\n",
      "Nicolas Cage with value of 0.0119697248919\n",
      "Robert De Niro with value of 0.0114982301561\n",
      "Robin Williams with value of 0.0111298982713\n",
      "Morgan Freeman with value of 0.0100334652795\n",
      "Liam Neeson with value of 0.00934719006674\n",
      "John Goodman with value of 0.00884297061326\n",
      "Christopher Walken with value of 0.00880094489135\n"
     ]
    }
   ],
   "source": [
    "# Betweenness centrality for 'actors_network'\n",
    "between_centrality = nx.betweenness_centrality(actors_network)\n",
    "\n",
    "# Go through 'between_centrality' and add to two lists (names and values)\n",
    "between_centrality_names = []\n",
    "between_centrality_values = []\n",
    "for i in between_centrality:\n",
    "    between_centrality_names.append(i)\n",
    "    between_centrality_values.append(between_centrality[i])\n",
    "    \n",
    "# Combining lists of names and values\n",
    "between_centrality_list = zip(between_centrality_names, between_centrality_values)\n",
    "\n",
    "# Sort by values\n",
    "between_centrality_sorted = sorted(between_centrality_list, key=lambda tup: tup[1], reverse=True)\n",
    "\n",
    "# Print the top 5\n",
    "for ii in between_centrality_sorted[0:10]:\n",
    "    print(ii[0] + ' with value of ' + str(ii[1]))"
   ]
  },
  {
   "cell_type": "markdown",
   "metadata": {},
   "source": [
    "EXPLANATION"
   ]
  },
  {
   "cell_type": "code",
   "execution_count": 18,
   "metadata": {
    "collapsed": false
   },
   "outputs": [
    {
     "name": "stdout",
     "output_type": "stream",
     "text": [
      "Number of nodes: 6450\n",
      "Number of links: 24541\n",
      "\n",
      "20 Directors with the greatest actors network:\n",
      "Woody Allen with value of 146\n",
      "Steven Spielberg with value of 109\n",
      "Clint Eastwood with value of 105\n",
      "Ridley Scott with value of 99\n",
      "Ron (I) Howard with value of 95\n",
      "Oliver (I) Stone with value of 84\n",
      "Steven Soderbergh with value of 81\n",
      "Barry (I) Levinson with value of 81\n",
      "Renny Harlin with value of 78\n",
      "Joel Schumacher with value of 77\n",
      "Rob Reiner with value of 76\n",
      "Spike Lee with value of 74\n",
      "Tony (I) Scott with value of 69\n",
      "Chris Columbus with value of 66\n",
      "Stephen Herek with value of 66\n",
      "Garry (I) Marshall with value of 65\n",
      "Robert Zemeckis with value of 64\n",
      "Tim (I) Burton with value of 64\n",
      "Martin (I) Scorsese with value of 63\n",
      "Ivan Reitman with value of 62\n"
     ]
    }
   ],
   "source": [
    "directors_network = nx.Graph()\n",
    "\n",
    "for movie in movies:\n",
    "    directors_network.add_node(movies[movie][\"director\"])\n",
    "    directors_network.add_node(movies[movie][\"actor1\"]) \n",
    "    directors_network.add_node(movies[movie][\"actor2\"]) \n",
    "    directors_network.add_node(movies[movie][\"actor3\"])\n",
    "    directors_network.add_node(movies[movie][\"actor4\"])\n",
    "    directors_network.add_node(movies[movie][\"actor5\"])\n",
    "    directors_network.add_node(movies[movie][\"actor6\"])\n",
    "\n",
    "for movie in movies:\n",
    "    directors_network.add_edge(movies[movie][\"director\"], movies[movie][\"actor1\"], weight =1)\n",
    "    directors_network.add_edge(movies[movie][\"director\"], movies[movie][\"actor2\"], weight =1)\n",
    "    directors_network.add_edge(movies[movie][\"director\"], movies[movie][\"actor3\"], weight =1)\n",
    "    directors_network.add_edge(movies[movie][\"director\"], movies[movie][\"actor4\"], weight =1)\n",
    "    directors_network.add_edge(movies[movie][\"director\"], movies[movie][\"actor5\"], weight =1)\n",
    "    directors_network.add_edge(movies[movie][\"director\"], movies[movie][\"actor6\"], weight =1)\n",
    "    \n",
    "dir_net_num_of_nodes = directors_network.number_of_nodes()\n",
    "print('Number of nodes: ' + str(dir_net_num_of_nodes))\n",
    "\n",
    "dir_net_num_of_links = directors_network.number_of_edges()\n",
    "print('Number of links: ' + str(dir_net_num_of_links))\n",
    "\n",
    "directors_degree = nx.degree(directors_network)\n",
    "\n",
    "directors_degree_names = []\n",
    "directors_degree_values = []\n",
    "for i in directors_degree:\n",
    "    directors_degree_names.append(i)\n",
    "    directors_degree_values.append(directors_degree[i])\n",
    "    \n",
    "# Combining lists of names and values\n",
    "directors_degree_list = zip(directors_degree_names, directors_degree_values)\n",
    "\n",
    "# Sort by values\n",
    "directors_degree_sorted = sorted(directors_degree_list, key=lambda tup: tup[1], reverse=True)\n",
    "\n",
    "print \"\\n20 Directors with the greatest actors network:\"\n",
    "for ii in directors_degree_sorted[0:20]:\n",
    "    print(ii[0] + ' with value of ' + str(ii[1]))\n",
    "\n",
    "\n",
    "    "
   ]
  },
  {
   "cell_type": "markdown",
   "metadata": {},
   "source": [
    "EXPLANATION"
   ]
  },
  {
   "cell_type": "code",
   "execution_count": 17,
   "metadata": {
    "collapsed": false
   },
   "outputs": [
    {
     "data": {
      "image/png": "[encoded data removed]",
      "text/plain": [
       "<matplotlib.figure.Figure at 0xaf78588>"
      ]
     },
     "metadata": {},
     "output_type": "display_data"
    }
   ],
   "source": [
    "plt.hist(nx.degree(directors_network).values())\n",
    "plt.title(\"Directors Degree Distribution\")\n",
    "plt.xlabel('Degree')\n",
    "plt.ylabel('Number of Directors')\n",
    "plt.show()"
   ]
  },
  {
   "cell_type": "markdown",
   "metadata": {},
   "source": [
    "EXPLANATION"
   ]
  },
  {
   "cell_type": "code",
   "execution_count": null,
   "metadata": {
    "collapsed": true
   },
   "outputs": [],
   "source": []
  },
  {
   "cell_type": "code",
   "execution_count": null,
   "metadata": {
    "collapsed": true
   },
   "outputs": [],
   "source": []
  }
 ],
 "metadata": {
  "anaconda-cloud": {},
  "kernelspec": {
   "display_name": "Python [Root]",
   "language": "python",
   "name": "Python [Root]"
  },
  "language_info": {
   "codemirror_mode": {
    "name": "ipython",
    "version": 2
   },
   "file_extension": ".py",
   "mimetype": "text/x-python",
   "name": "python",
   "nbconvert_exporter": "python",
   "pygments_lexer": "ipython2",
   "version": "2.7.12"
  }
 },
 "nbformat": 4,
 "nbformat_minor": 0
}
