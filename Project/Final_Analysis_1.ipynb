{
 "cells": [
  {
   "cell_type": "code",
   "execution_count": 357,
   "metadata": {
    "collapsed": false
   },
   "outputs": [],
   "source": [
    "import numpy as np\n",
    "import operator\n",
    "import matplotlib.pyplot as plt\n",
    "from sklearn import linear_model\n",
    "from sklearn.cross_validation import train_test_split\n",
    "%matplotlib inline"
   ]
  },
  {
   "cell_type": "code",
   "execution_count": 358,
   "metadata": {
    "collapsed": true
   },
   "outputs": [],
   "source": [
    "fil=open('imdb_dataset_v4.tsv','rb')\n",
    "imdb=fil.read()"
   ]
  },
  {
   "cell_type": "code",
   "execution_count": 359,
   "metadata": {
    "collapsed": false
   },
   "outputs": [],
   "source": [
    "imdbItems={}\n",
    "infoList=[]\n",
    "imdbLine=imdb.split(\"\\n\")\n",
    "for item in imdbLine[1:]:\n",
    "    itemDetail=item.split(\"\\t\")\n",
    "    imdbItems[itemDetail[0]]=itemDetail\n",
    "    "
   ]
  },
  {
   "cell_type": "code",
   "execution_count": 360,
   "metadata": {
    "collapsed": false
   },
   "outputs": [
    {
     "name": "stdout",
     "output_type": "stream",
     "text": [
      "Fired Up! (2009)  director:  Will Gluck\n",
      "Resurrection (1999)  director:  Russell Mulcahy\n",
      "Mozart and the Whale (2005)  director:  Petter Næss\n",
      "The Peacemaker (1997)  director:  Mimi Leder\n",
      "Holy Rollers (2010)  director:  Kevin Asch\n",
      "X-Men: Days of Future Past (2014)  director:  Bryan Singer\n",
      "Poltergeist III (1988)  director:  Gary (I) Sherman\n",
      "Law Abiding Citizen (2009)  director:  F. Gary Gray\n",
      "Frozen (2013/I)  director:  Chris (II) Buck\n",
      "FernGully: The Last Rainforest (1992)  director:  Bill Kroyer\n",
      "Drop Dead Gorgeous (1999)  director:  Michael Patrick Jann\n",
      "The Big Short (2015)  director:  Adam (I) McKay\n",
      "The Covenant (2006)  director:  Renny Harlin\n",
      "Sex and the City 2 (2010)  director:  Michael Patrick King\n",
      "Robot & Frank (2012)  director:  Jake Schreier\n",
      "Jem and the Holograms (2015)  director:  Jon M. Chu\n",
      "Encino Man (1992)  director:  Les Mayfield\n",
      "The Adventures of Baron Munchausen (1988)  director:  Terry Gilliam\n",
      "Resident Evil: Apocalypse (2004)  director:  Alexander Witt\n",
      "A Perfect World (1993)  director:  Clint Eastwood\n",
      "Margin Call (2011)  director:  J.C. Chandor\n",
      "Panic Room (2002)  director:  David Fincher\n",
      "X-Men: The Last Stand (2006)  director:  Brett Ratner\n",
      "London Has Fallen (2016)  director:  Babak Najafi\n",
      "Lockout (2012)  director:  James (II) Mather\n",
      "Café Society (2016)  director:  Woody Allen\n",
      "The Blood of Heroes (1989)  director:  David Webb Peoples\n",
      "The Naked Gun: From the Files of Police Squad! (1988)  director:  David (I) Zucker\n",
      "Lucy (2014/I)  director:  Luc Besson\n",
      "Village of the Damned (1995)  director:  John (I) Carpenter\n"
     ]
    }
   ],
   "source": [
    "# A domonstration of how to reach the data\n",
    "for movie in imdbItems.keys()[0:30]:\n",
    "    print movie,\" director: \", imdbItems[movie][1]"
   ]
  },
  {
   "cell_type": "code",
   "execution_count": 361,
   "metadata": {
    "collapsed": false
   },
   "outputs": [
    {
     "name": "stdout",
     "output_type": "stream",
     "text": [
      "The amount of the movies in box office for analys: 4858\n"
     ]
    }
   ],
   "source": [
    "print \"The amount of the movies in box office for analys:\",len(imdbItems)"
   ]
  },
  {
   "cell_type": "code",
   "execution_count": 362,
   "metadata": {
    "collapsed": false
   },
   "outputs": [],
   "source": [
    "# Counting the profit of a movie\n",
    "profit={}\n",
    "for movie in imdbItems.keys():\n",
    "    profit[movie]=int(imdbItems[movie][6])-int(imdbItems[movie][7])"
   ]
  },
  {
   "cell_type": "code",
   "execution_count": 363,
   "metadata": {
    "collapsed": false
   },
   "outputs": [
    {
     "name": "stdout",
     "output_type": "stream",
     "text": [
      "\n",
      "The most profitable movies: \n",
      "('The Hole (2001)', 4158968630L)\n",
      "('Gallows Hill (2013)', 2810792640L)\n",
      "('Avatar (2009)', 2550965087L)\n",
      "('Titanic (1997)', 1986772302L)\n",
      "('Star Wars: Episode VII - The Force Awakens (2015)', 1823178225)\n",
      "('Jurassic World (2015)', 1520400637)\n",
      "('Furious Seven (2015)', 1326045911)\n",
      "('Harry Potter and the Deathly Hallows: Part 2 (2011)', 1216511219)\n",
      "('Avengers: Age of Ultron (2015)', 1155413868)\n",
      "('Frozen (2013/I)', 1126480335)\n",
      "('Minions (2015)', 1089534901)\n",
      "('The Lord of the Rings: The Return of the King (2003)', 1025929521)\n",
      "('Iron Man Three (2013)', 1015439994)\n",
      "('Jurassic Park (1993)', 966153882)\n",
      "('The Lion King (1994)', 942483777)\n",
      "('Transformers: Dark of the Moon (2011)', 928746996)\n",
      "('Star Wars: Episode I - The Phantom Menace (1999)', 912044677)\n",
      "('Skyfall (2012)', 908561013)\n",
      "('Captain America: Civil War (2016)', 903293700)\n",
      "('Despicable Me 2 (2013)', 894761885)\n"
     ]
    }
   ],
   "source": [
    "# Showing the movies that made most Profit\n",
    "sorted_profit = sorted(profit.items(), key=operator.itemgetter(1),reverse=True)\n",
    "print \"\\nThe most profitable movies: \"\n",
    "for item in sorted_profit[:20]:\n",
    "    print item"
   ]
  },
  {
   "cell_type": "code",
   "execution_count": 364,
   "metadata": {
    "collapsed": true
   },
   "outputs": [],
   "source": [
    "# is the money in different years have the same rate too? Obviousely no, so we are going to consider base of the year the rate\n",
    "# the exchange effect, our movie database is from 1986 until today.\n",
    "# base of the http://www.dollartimes.com/calculators/inflation.htm   the value $1 dolar today is equal to $2.16\n",
    "# we create a table of value of dolars so we can estimate the groas base of the today value and calculate the previous \n",
    "# table agaiin to see which movie had highest value\n",
    "dolarYearValue={}\n",
    "dolarYearValue['2016']=1\n",
    "dolarYearValue['2015']=1.01\n",
    "dolarYearValue['2014']=1.01\n",
    "dolarYearValue['2013']=1.03\n",
    "dolarYearValue['2012']=1.05\n",
    "dolarYearValue['2011']=1.08\n",
    "dolarYearValue['2010']=1.10\n",
    "dolarYearValue['2009']=1.13\n",
    "dolarYearValue['2008']=1.13\n",
    "dolarYearValue['2007']=1.17\n",
    "dolarYearValue['2006']=1.20\n",
    "dolarYearValue['2005']=1.24\n",
    "dolarYearValue['2004']=1.28\n",
    "dolarYearValue['2003']=1.31\n",
    "dolarYearValue['2002']=1.34\n",
    "dolarYearValue['2001']=1.36\n",
    "dolarYearValue['2000']=1.41\n",
    "dolarYearValue['1999']=1.44\n",
    "dolarYearValue['1998']=1.47\n",
    "dolarYearValue['1997']=1.49\n",
    "dolarYearValue['1996']=1.54\n",
    "dolarYearValue['1995']=1.58\n",
    "dolarYearValue['1994']=1.62\n",
    "dolarYearValue['1993']=1.67\n",
    "dolarYearValue['1992']=1.72\n",
    "dolarYearValue['1991']=1.77\n",
    "dolarYearValue['1990']=1.88\n",
    "dolarYearValue['1989']=1.96\n",
    "dolarYearValue['1988']=2.05\n",
    "dolarYearValue['1987']=2.14\n",
    "dolarYearValue['1986']=2.16"
   ]
  },
  {
   "cell_type": "code",
   "execution_count": 365,
   "metadata": {
    "collapsed": true
   },
   "outputs": [],
   "source": [
    "# Now count profit rate base of the dolar value \n",
    "profity={}\n",
    "for movie in imdbItems.keys():\n",
    "    profity[movie]=float(imdbItems[movie][6])*dolarYearValue[imdbItems[movie][4]]-float(imdbItems[movie][7])*dolarYearValue[imdbItems[movie][4]]"
   ]
  },
  {
   "cell_type": "code",
   "execution_count": 366,
   "metadata": {
    "collapsed": false
   },
   "outputs": [
    {
     "name": "stdout",
     "output_type": "stream",
     "text": [
      "\n",
      "The most Profitable movies: \n",
      "('The Hole (2001)', 5656197336.8)\n",
      "('Titanic (1997)', 2960290729.98)\n",
      "('Gallows Hill (2013)', 2895116419.2000003)\n",
      "('Avatar (2009)', 2882590548.3099995)\n",
      "('Star Wars: Episode VII - The Force Awakens (2015)', 1841410007.25)\n",
      "('Jurassic Park (1993)', 1613476982.9399998)\n",
      "('Jurassic World (2015)', 1535604643.3700001)\n",
      "('The Lion King (1994)', 1526823718.74)\n",
      "('The Lord of the Rings: The Return of the King (2003)', 1343967672.51)\n",
      "('Furious Seven (2015)', 1339306370.11)\n",
      "('Harry Potter and the Deathly Hallows: Part 2 (2011)', 1313832116.52)\n",
      "('Star Wars: Episode I - The Phantom Menace (1999)', 1313344334.8799999)\n",
      "('Avengers: Age of Ultron (2015)', 1166968006.68)\n",
      "('Frozen (2013/I)', 1160274745.05)\n",
      "(\"Harry Potter and the Sorcerer's Stone (2001)\", 1155667304.5600002)\n",
      "('Independence Day (1996)', 1143297372.14)\n",
      "('The Lord of the Rings: The Two Towers (2002)', 1114943128.74)\n",
      "('Finding Nemo (2003)', 1103993671.91)\n",
      "('Minions (2015)', 1100430250.01)\n",
      "('The Lord of the Rings: The Fellowship of the Ring (2001)', 1058801240.6400001)\n"
     ]
    }
   ],
   "source": [
    "sorted_profity = sorted(profity.items(), key=operator.itemgetter(1),reverse=True)\n",
    "print \"\\nThe most Profitable movies: \"\n",
    "for item in sorted_profity[:20]:\n",
    "    print item"
   ]
  },
  {
   "cell_type": "code",
   "execution_count": 367,
   "metadata": {
    "collapsed": true
   },
   "outputs": [],
   "source": [
    "# but just count the profit is meaningfull but maybe if we see how much investors get back from their investement would be \n",
    "# more informative\n",
    "profitRate={}\n",
    "for movie in imdbItems.keys():\n",
    "    profitRate[movie]=float(imdbItems[movie][6])/float(imdbItems[movie][7])"
   ]
  },
  {
   "cell_type": "code",
   "execution_count": 368,
   "metadata": {
    "collapsed": false
   },
   "outputs": [
    {
     "name": "stdout",
     "output_type": "stream",
     "text": [
      "\n",
      "The most profitable movies: \n",
      "('Little Monsters (1989)', 39688.75)\n",
      "('The Hole (2001)', 1001.1439578488687)\n",
      "('Gallows Hill (2013)', 937.93088)\n",
      "('Napoleon Dynamite (2004)', 115.29365)\n",
      "('Saw (2004)', 86.5930575)\n",
      "('My Date with Drew (2004)', 77.47454545454545)\n",
      "('My Big Fat Greek Wedding (2002)', 73.7488088)\n",
      "('Resurrection (1999)', 72.6445791)\n",
      "('Insidious (2010/I)', 64.67276666666666)\n",
      "('Paranormal Activity 2 (2010)', 59.17067733333333)\n",
      "('Four Weddings and a Funeral (1994)', 55.84109818181818)\n",
      "('Hollywood Shuffle (1987)', 52.28617)\n",
      "('Chasing Amy (1997)', 48.026056)\n",
      "('Paranormal Activity 3 (2011)', 41.4079688)\n",
      "(\"Clifford's Really Big Movie (2004)\", 40.444714285714284)\n",
      "(\"Look Who's Talking (1989)\", 39.599975066666666)\n",
      "('Annabelle (2014/I)', 39.51904815384616)\n",
      "('Chernobyl Diaries (2012)', 38.39002)\n",
      "('Fahrenheit 9/11 (2004)', 37.07438666666667)\n",
      "('Saw II (2005)', 36.93712625)\n"
     ]
    }
   ],
   "source": [
    "# Showing the movies that made most profits\n",
    "sorted_profitRate = sorted(profitRate.items(), key=operator.itemgetter(1),reverse=True)\n",
    "print \"\\nThe most profitable movies: \"\n",
    "for item in sorted_profitRate[:20]:\n",
    "    print item"
   ]
  },
  {
   "cell_type": "code",
   "execution_count": 369,
   "metadata": {
    "collapsed": true
   },
   "outputs": [],
   "source": [
    "# create X and y for perdiction of the sell\n",
    "xlist=[]\n",
    "ylist=[]\n",
    "for movie in imdbItems.keys():\n",
    "    # we can change the predictor here\n",
    "    # Actor 1\n",
    "    xlist.append([5611.-float(imdbItems[movie][10])])\n",
    "\n",
    "    ylist.append(float(int(int(imdbItems[movie][6])*dolarYearValue[imdbItems[movie][4]]/10000000)))\n",
    "X=np.array(xlist)\n",
    "y=np.array(ylist)"
   ]
  },
  {
   "cell_type": "code",
   "execution_count": 370,
   "metadata": {
    "collapsed": false
   },
   "outputs": [
    {
     "name": "stdout",
     "output_type": "stream",
     "text": [
      "('Coefficients: \\n', array([ 0.0034761]))\n",
      "Mean squared error: 682.98\n",
      "Variance score: 0.01\n"
     ]
    }
   ],
   "source": [
    "\n",
    "\n",
    "\n",
    "#X_train = X[:-20]\n",
    "#X_test = X[-20:]\n",
    "#y_train = y[:-20]\n",
    "#y_test = y[-20:]\n",
    "\n",
    "X_train, X_test, y_train, y_test = train_test_split(X, y, test_size=0.2, random_state=42)\n",
    "\n",
    "# Split the targets into training/testing sets\n",
    "\n",
    "\n",
    "# Create linear regression object\n",
    "regr = linear_model.LinearRegression()\n",
    "\n",
    "# Train the model using the training sets\n",
    "regr.fit(X_train, y_train)\n",
    "\n",
    "# The coefficients\n",
    "print('Coefficients: \\n', regr.coef_)\n",
    "# The mean squared error\n",
    "print(\"Mean squared error: %.2f\"\n",
    "      % np.mean((regr.predict(X_test) - y_test) ** 2))\n",
    "# Explained variance score: 1 is perfect prediction\n",
    "print('Variance score: %.2f' % regr.score(X_test, y_test))"
   ]
  },
  {
   "cell_type": "code",
   "execution_count": 371,
   "metadata": {
    "collapsed": false
   },
   "outputs": [
    {
     "name": "stdout",
     "output_type": "stream",
     "text": [
      "\n",
      "              Actor1\n"
     ]
    },
    {
     "data": {
      "image/png": "[encoded data removed]",
      "text/plain": [
       "<matplotlib.figure.Figure at 0x6c22ba8>"
      ]
     },
     "metadata": {},
     "output_type": "display_data"
    }
   ],
   "source": [
    "# Plot outputs\n",
    "X_plot=list(X_test)\n",
    "fig, ax = plt.subplots(figsize=(20, 10))\n",
    "ax.scatter(X_plot, y_test,  color='black')\n",
    "ax.plot(X_test, regr.predict(X_test), color='blue',\n",
    "         linewidth=2)\n",
    "\n",
    "plt.xticks(())\n",
    "plt.yticks(())\n",
    "\n",
    "print \"\\n              Actor1\"\n",
    "for i, txt in enumerate(y_test):\n",
    "    if txt>=1000000000:\n",
    "        #print txt\n",
    "        ax.annotate(txt, (X_plot[i],y_test[i]))\n",
    "plt.show()"
   ]
  },
  {
   "cell_type": "code",
   "execution_count": 372,
   "metadata": {
    "collapsed": true
   },
   "outputs": [],
   "source": [
    "# create X and y for perdiction of the sell\n",
    "xlist=[]\n",
    "ylist=[]\n",
    "for movie in imdbItems.keys():\n",
    "    # we can change the predictor here\n",
    "    # base of the budget\n",
    "    xlist.append([float(int(int(imdbItems[movie][7])*dolarYearValue[imdbItems[movie][4]]))])\n",
    "    ylist.append(float(int(int(imdbItems[movie][6])*dolarYearValue[imdbItems[movie][4]]/1000000)))\n",
    "X=np.array(xlist)\n",
    "y=np.array(ylist)"
   ]
  },
  {
   "cell_type": "code",
   "execution_count": 373,
   "metadata": {
    "collapsed": false
   },
   "outputs": [
    {
     "name": "stdout",
     "output_type": "stream",
     "text": [
      "('Coefficients: \\n', array([  3.04976043e-06]))\n",
      "Mean squared error: 40177403.58\n",
      "Variance score: -579.20\n"
     ]
    }
   ],
   "source": [
    "\n",
    "#X_train = X[:-20]\n",
    "#X_test = X[-20:]\n",
    "#y_train = y[:-20]\n",
    "#y_test = y[-20:]\n",
    "\n",
    "X_train, X_test, y_train, y_test = train_test_split(X, y, test_size=0.2, random_state=42)\n",
    "\n",
    "# Split the targets into training/testing sets\n",
    "\n",
    "\n",
    "# Create linear regression object\n",
    "regr = linear_model.LinearRegression()\n",
    "\n",
    "# Train the model using the training sets\n",
    "regr.fit(X_train, y_train)\n",
    "\n",
    "# The coefficients\n",
    "print('Coefficients: \\n', regr.coef_)\n",
    "# The mean squared error\n",
    "print(\"Mean squared error: %.2f\"\n",
    "      % np.mean((regr.predict(X_test) - y_test) ** 2))\n",
    "# Explained variance score: 1 is perfect prediction\n",
    "print('Variance score: %.2f' % regr.score(X_test, y_test))"
   ]
  },
  {
   "cell_type": "code",
   "execution_count": 374,
   "metadata": {
    "collapsed": false
   },
   "outputs": [
    {
     "name": "stdout",
     "output_type": "stream",
     "text": [
      "\n",
      "              Budget\n"
     ]
    },
    {
     "data": {
      "image/png": "[encoded data removed]",
      "text/plain": [
       "<matplotlib.figure.Figure at 0x6971e48>"
      ]
     },
     "metadata": {},
     "output_type": "display_data"
    }
   ],
   "source": [
    "# Plot outputs\n",
    "X_plot=list(X_test)\n",
    "fig, ax = plt.subplots(figsize=(20, 10))\n",
    "ax.scatter(X_plot, y_test,  color='black')\n",
    "ax.plot(X_test, regr.predict(X_test), color='blue',\n",
    "         linewidth=2)\n",
    "\n",
    "plt.xticks(())\n",
    "plt.yticks(())\n",
    "\n",
    "print \"\\n              Budget\"\n",
    "for i, txt in enumerate(y_test):\n",
    "    if txt>=1000000000:\n",
    "        #print txt\n",
    "        ax.annotate(txt, (X_plot[i],y_test[i]))\n",
    "plt.show()"
   ]
  },
  {
   "cell_type": "code",
   "execution_count": null,
   "metadata": {
    "collapsed": true
   },
   "outputs": [],
   "source": []
  },
  {
   "cell_type": "code",
   "execution_count": null,
   "metadata": {
    "collapsed": true
   },
   "outputs": [],
   "source": []
  },
  {
   "cell_type": "code",
   "execution_count": null,
   "metadata": {
    "collapsed": true
   },
   "outputs": [],
   "source": []
  },
  {
   "cell_type": "code",
   "execution_count": 375,
   "metadata": {
    "collapsed": false
   },
   "outputs": [],
   "source": [
    "# create X and y for perdiction of the sell\n",
    "xlist=[]\n",
    "ylist=[]\n",
    "for movie in imdbItems.keys():\n",
    "    # we can change the predictor here\n",
    "    # Actor 1\n",
    "    #xlist.append([5611.-float(imdbItems[movie][10])])\n",
    "    # Actor 1 and 2\n",
    "    xlist.append([5611.-float(imdbItems[movie][10]),9267.-float(imdbItems[movie][12])])\n",
    "    ylist.append(float(int(int(imdbItems[movie][6])*dolarYearValue[imdbItems[movie][4]]/10000000)))\n",
    "X=np.array(xlist)\n",
    "y=np.array(ylist)"
   ]
  },
  {
   "cell_type": "code",
   "execution_count": 376,
   "metadata": {
    "collapsed": false
   },
   "outputs": [
    {
     "name": "stdout",
     "output_type": "stream",
     "text": [
      "(4858L, 2L) (4858L,)\n"
     ]
    }
   ],
   "source": [
    "print np.shape(X),np.shape(y)"
   ]
  },
  {
   "cell_type": "code",
   "execution_count": 377,
   "metadata": {
    "collapsed": false
   },
   "outputs": [
    {
     "name": "stdout",
     "output_type": "stream",
     "text": [
      "('Coefficients: \\n', array([ 0.00057748,  0.00241975]))\n",
      "Mean squared error: 680.14\n",
      "Variance score: 0.02\n"
     ]
    }
   ],
   "source": [
    "\n",
    "#X_train = X[:-20]\n",
    "#X_test = X[-20:]\n",
    "#y_train = y[:-20]\n",
    "#y_test = y[-20:]\n",
    "\n",
    "X_train, X_test, y_train, y_test = train_test_split(X, y, test_size=0.2, random_state=42)\n",
    "\n",
    "# Split the targets into training/testing sets\n",
    "\n",
    "\n",
    "# Create linear regression object\n",
    "regr = linear_model.LinearRegression()\n",
    "\n",
    "# Train the model using the training sets\n",
    "regr.fit(X_train, y_train)\n",
    "\n",
    "# The coefficients\n",
    "print('Coefficients: \\n', regr.coef_)\n",
    "# The mean squared error\n",
    "print(\"Mean squared error: %.2f\"\n",
    "      % np.mean((regr.predict(X_test) - y_test) ** 2))\n",
    "# Explained variance score: 1 is perfect prediction\n",
    "print('Variance score: %.2f' % regr.score(X_test, y_test))\n",
    "\n"
   ]
  },
  {
   "cell_type": "code",
   "execution_count": 378,
   "metadata": {
    "collapsed": false
   },
   "outputs": [
    {
     "name": "stdout",
     "output_type": "stream",
     "text": [
      "(972L,)\n",
      "(972L,)\n"
     ]
    },
    {
     "data": {
      "image/png": "[encoded data removed]",
      "text/plain": [
       "<matplotlib.figure.Figure at 0x6995588>"
      ]
     },
     "metadata": {},
     "output_type": "display_data"
    }
   ],
   "source": [
    "# Plot outputs\n",
    "X_plot=list(X_test[:,0])\n",
    "print np.shape(X_plot)\n",
    "print np.shape(y_test)\n",
    "fig, ax = plt.subplots(figsize=(20, 10))\n",
    "ax.scatter(X_plot, y_test,  color='black')\n",
    "ax.plot(X_test, regr.predict(X_test), color='blue',\n",
    "         linewidth=2)\n",
    "\n",
    "plt.xticks(())\n",
    "plt.yticks(())\n",
    "\n",
    "\n",
    "for i, txt in enumerate(y_test):\n",
    "    if txt>=1000000000:\n",
    "        #print txt\n",
    "        ax.annotate(txt, (X_plot[i],y_test[i]))\n",
    "plt.show()\n"
   ]
  },
  {
   "cell_type": "code",
   "execution_count": 379,
   "metadata": {
    "collapsed": false
   },
   "outputs": [
    {
     "data": {
      "image/png": "[encoded data removed]",
      "text/plain": [
       "<matplotlib.figure.Figure at 0x6c57b00>"
      ]
     },
     "metadata": {},
     "output_type": "display_data"
    }
   ],
   "source": [
    "from sklearn import linear_model\n",
    "n_alphas = 200\n",
    "alphas = np.logspace(0, 20, n_alphas)\n",
    "clf = linear_model.Ridge(fit_intercept=False)\n",
    "\n",
    "coefs = []\n",
    "for a in alphas:\n",
    "    clf.set_params(alpha=a)\n",
    "    clf.fit(X_train, y_train)\n",
    "    coefs.append(clf.coef_)\n",
    "    \n",
    "ax = plt.gca()\n",
    "\n",
    "ax.plot(alphas, coefs)\n",
    "ax.set_xscale('log')\n",
    "ax.set_xlim(ax.get_xlim()[::-1])  # reverse axis\n",
    "plt.xlabel('alpha')\n",
    "plt.ylabel('weights')\n",
    "plt.title('Ridge coefficients as a function of the regularization')\n",
    "plt.axis('tight')\n",
    "plt.show()"
   ]
  },
  {
   "cell_type": "code",
   "execution_count": 323,
   "metadata": {
    "collapsed": false
   },
   "outputs": [
    {
     "data": {
      "text/plain": [
       "array([  4.94056937e+00,   4.31171133e-03,  -2.73832306e-06,\n",
       "         4.16368467e-10])"
      ]
     },
     "execution_count": 323,
     "metadata": {},
     "output_type": "execute_result"
    }
   ],
   "source": [
    "from sklearn.preprocessing import PolynomialFeatures\n",
    "from sklearn.pipeline import Pipeline\n",
    "\n",
    "model = Pipeline([('poly', PolynomialFeatures(degree=3)),\n",
    "                  ('linear', LinearRegression(fit_intercept=False))])\n",
    "# fit to an order-3 polynomial data\n",
    "x = X_train[:,0]\n",
    "y = y_train\n",
    "model = model.fit(x[:, np.newaxis], y)\n",
    "model.named_steps['linear'].coef_\n"
   ]
  },
  {
   "cell_type": "code",
   "execution_count": null,
   "metadata": {
    "collapsed": true
   },
   "outputs": [],
   "source": []
  }
 ],
 "metadata": {
  "anaconda-cloud": {},
  "kernelspec": {
   "display_name": "Python [Root]",
   "language": "python",
   "name": "Python [Root]"
  },
  "language_info": {
   "codemirror_mode": {
    "name": "ipython",
    "version": 2
   },
   "file_extension": ".py",
   "mimetype": "text/x-python",
   "name": "python",
   "nbconvert_exporter": "python",
   "pygments_lexer": "ipython2",
   "version": "2.7.12"
  }
 },
 "nbformat": 4,
 "nbformat_minor": 0
}
